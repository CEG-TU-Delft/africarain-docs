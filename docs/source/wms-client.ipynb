{
 "cells": [
  {
   "cell_type": "markdown",
   "metadata": {},
   "source": [
    "# Visualizing Data using WMS\n",
    "\n",
    "This is an example on how connect to the Web Map Service of the [AfricaRain THREDDS server](https://africarain.ceg.tudelft.nl:9010/thredds/catalog.html) to vizualize data in interactive maps. We assume that the *demo.nc* contains a layer called **air_temperature**\n",
    "\n",
    "Requirements:\n",
    "The *ipyleaflet* module, which you can install with `$ pip install ipyleaflet`\n"
   ]
  },
  {
   "cell_type": "code",
   "execution_count": 25,
   "metadata": {},
   "outputs": [
    {
     "data": {
      "application/vnd.jupyter.widget-view+json": {
       "model_id": "5ef7d5eb3b3740199379267a59bfd675",
       "version_major": 2,
       "version_minor": 0
      },
      "text/plain": [
       "Map(center=[40.1, -104.5], controls=(ZoomControl(options=['position', 'zoom_in_text', 'zoom_in_title', 'zoom_o…"
      ]
     },
     "metadata": {},
     "output_type": "display_data"
    }
   ],
   "source": [
    "from ipyleaflet import Map, WMSLayer\n",
    "\n",
    "wms = WMSLayer(\n",
    "    url='https://africarain.ceg.tudelft.nl:9010/thredds/wms/demos/demo.nc?COLORSCALERANGE=273,317', #Use COLORSCALERANGE=273,317 only within this example. Omit for any other case. \n",
    "    layers='air_temperature',\n",
    "    format='image/png',\n",
    "    transparent=True,\n",
    "    attribution='Africa Rain Project, TU Delft'\n",
    ")\n",
    "\n",
    "center=(40.1, -104.5)\n",
    "\n",
    "m = Map(center=center, zoom=7.5)\n",
    "\n",
    "m.add_layer(wms)\n",
    "\n",
    "display(m)\n"
   ]
  }
 ],
 "metadata": {
  "kernelspec": {
   "display_name": "Python 3.8.5  ('gdal-venv': venv)",
   "name": "pythonjvsc74a57bd05c50363312eb22a5c4557becb732d836daf06874eb9ae04466be20e37e523acc"
  },
  "language_info": {
   "codemirror_mode": {
    "name": "ipython",
    "version": 3
   },
   "file_extension": ".py",
   "mimetype": "text/x-python",
   "name": "python",
   "nbconvert_exporter": "python",
   "pygments_lexer": "ipython3",
   "version": "3.8.5"
  },
  "metadata": {
   "interpreter": {
    "hash": "5c50363312eb22a5c4557becb732d836daf06874eb9ae04466be20e37e523acc"
   }
  }
 },
 "nbformat": 4,
 "nbformat_minor": 2
}
